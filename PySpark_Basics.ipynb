{
 "cells": [
  {
   "cell_type": "markdown",
   "id": "trained-moses",
   "metadata": {},
   "source": [
    "import libraries(I provide all libs that I need when make this tasks, if you need some external import them here)"
   ]
  },
  {
   "cell_type": "code",
   "execution_count": 2,
   "id": "induced-african",
   "metadata": {},
   "outputs": [],
   "source": [
    "import pyspark\n",
    "import os\n",
    "import sys\n",
    "from pyspark.sql import SparkSession, Window\n",
    "from pyspark.sql.types import StructType, StructField, IntegerType, StringType\n",
    "from pyspark.sql.functions import col\n",
    "from pyspark.sql.functions import max, avg, min, round, row_number, desc\n",
    "from pyspark.sql.window import Window\n",
    "from pyspark.sql.functions import row_number\n",
    "from pyspark.sql.functions import when\n",
    "import findspark"
   ]
  },
  {
   "cell_type": "markdown",
   "id": "permanent-photographer",
   "metadata": {},
   "source": [
    "create local SparkSession"
   ]
  },
  {
   "cell_type": "code",
   "execution_count": 7,
   "id": "stock-partnership",
   "metadata": {},
   "outputs": [
    {
     "name": "stdout",
     "output_type": "stream",
     "text": [
      "Spark version: 3.1.3\n",
      "+---+\n",
      "| id|\n",
      "+---+\n",
      "|  0|\n",
      "|  1|\n",
      "|  2|\n",
      "|  3|\n",
      "|  4|\n",
      "+---+\n",
      "\n"
     ]
    }
   ],
   "source": [
    "spark = SparkSession.builder \\\n",
    ".appName(\"DS_Salaries_Analysis\") \\\n",
    ".master(\"local[4]\") \\\n",
    ".config(\"spark.driver.memory\", \"2g\") \\\n",
    ".config(\"spark.executor.memory\", \"2g\") \\\n",
    ".config(\"spark.sql.shuffle.partitions\", \"8\") \\\n",
    ".getOrCreate()\n",
    "\n",
    "print(\"Spark version:\", spark.version) \n",
    "spark.range(5).show()\n",
    "\n"
   ]
  },
  {
   "cell_type": "markdown",
   "id": "juvenile-blame",
   "metadata": {},
   "source": [
    "read csv with inferschema"
   ]
  },
  {
   "cell_type": "markdown",
   "id": "stopped-dominant",
   "metadata": {},
   "source": [
    "read csv one more time with the same code and you will see that it almostly don't take time, because info already in SparkSession and it will not read nothing\n",
    "from this file"
   ]
  },
  {
   "cell_type": "code",
   "execution_count": 9,
   "id": "aging-neighborhood",
   "metadata": {},
   "outputs": [],
   "source": [
    "df = spark.read.csv(\n",
    "    \"ds_salaries.csv\",\n",
    "    header=True,\n",
    "    inferSchema=True\n",
    ")"
   ]
  },
  {
   "cell_type": "markdown",
   "id": "mature-tomorrow",
   "metadata": {},
   "source": [
    "write schema of scv on screen"
   ]
  },
  {
   "cell_type": "code",
   "execution_count": 10,
   "id": "least-communications",
   "metadata": {},
   "outputs": [
    {
     "name": "stdout",
     "output_type": "stream",
     "text": [
      "root\n",
      " |-- _c0: integer (nullable = true)\n",
      " |-- work_year: integer (nullable = true)\n",
      " |-- experience_level: string (nullable = true)\n",
      " |-- employment_type: string (nullable = true)\n",
      " |-- job_title: string (nullable = true)\n",
      " |-- salary: integer (nullable = true)\n",
      " |-- salary_currency: string (nullable = true)\n",
      " |-- salary_in_usd: integer (nullable = true)\n",
      " |-- employee_residence: string (nullable = true)\n",
      " |-- remote_ratio: integer (nullable = true)\n",
      " |-- company_location: string (nullable = true)\n",
      " |-- company_size: string (nullable = true)\n",
      "\n"
     ]
    }
   ],
   "source": [
    "df.printSchema()"
   ]
  },
  {
   "cell_type": "markdown",
   "id": "connected-brother",
   "metadata": {},
   "source": [
    "create schema of this scv"
   ]
  },
  {
   "cell_type": "code",
   "execution_count": 11,
   "id": "progressive-dictionary",
   "metadata": {},
   "outputs": [
    {
     "name": "stdout",
     "output_type": "stream",
     "text": [
      "+---+---------+----------------+---------------+--------------------+------+---------------+-------------+------------------+------------+----------------+------------+\n",
      "|_c0|work_year|experience_level|employment_type|           job_title|salary|salary_currency|salary_in_usd|employee_residence|remote_ratio|company_location|company_size|\n",
      "+---+---------+----------------+---------------+--------------------+------+---------------+-------------+------------------+------------+----------------+------------+\n",
      "|  0|     2020|              MI|             FT|      Data Scientist| 70000|            EUR|        79833|                DE|           0|              DE|           L|\n",
      "|  1|     2020|              SE|             FT|Machine Learning ...|260000|            USD|       260000|                JP|           0|              JP|           S|\n",
      "|  2|     2020|              SE|             FT|   Big Data Engineer| 85000|            GBP|       109024|                GB|          50|              GB|           M|\n",
      "+---+---------+----------------+---------------+--------------------+------+---------------+-------------+------------------+------------+----------------+------------+\n",
      "only showing top 3 rows\n",
      "\n"
     ]
    }
   ],
   "source": [
    "dataset_schema = StructType([\n",
    "    StructField(\"id\", IntegerType(), nullable=True),\n",
    "    StructField(\"work_year\", IntegerType(), nullable=False),\n",
    "    StructField(\"experience_level\", StringType(), nullable=True),\n",
    "    StructField(\"employment_type\", StringType(), nullable=True),\n",
    "    StructField(\"job_title\", StringType(), nullable=True),\n",
    "    StructField(\"salary\", IntegerType(), nullable=False),\n",
    "    StructField(\"salary_currency\", StringType(), nullable=False),  \n",
    "    StructField(\"salary_in_usd\", IntegerType(), nullable=False),\n",
    "    StructField(\"employee_residence\", StringType(), nullable=True),\n",
    "    StructField(\"remote_ratio\", IntegerType(), nullable=False),\n",
    "    StructField(\"company_location\", StringType(), nullable=True),\n",
    "    StructField(\"company_size\", StringType(), nullable=True)\n",
    "])\n",
    "df = spark.read.csv(\n",
    "    \"ds_salaries.csv\",\n",
    "    header = True,\n",
    "    inferSchema=True\n",
    ")\n",
    "df.show(3)"
   ]
  },
  {
   "cell_type": "markdown",
   "id": "auburn-sauce",
   "metadata": {},
   "source": [
    "restart kernel without cleaning output and after restarting you need to initialize SparkSession, after initialize start execute only cells from cell with schema=\n",
    "=StructType.... \n",
    "To restart kernel click Kernel, Restart."
   ]
  },
  {
   "cell_type": "markdown",
   "id": "artistic-hospital",
   "metadata": {},
   "source": [
    "read ds_salaries with predefined schema and compare results from this cell and cell with inferSchema"
   ]
  },
  {
   "cell_type": "code",
   "execution_count": 28,
   "id": "literary-plaintiff",
   "metadata": {
    "scrolled": true
   },
   "outputs": [],
   "source": [
    "df = spark.read.csv(\n",
    "    \"ds_salaries.csv\",\n",
    "    header = True,\n",
    "    schema = dataset_schema\n",
    ")"
   ]
  },
  {
   "cell_type": "markdown",
   "id": "senior-joint",
   "metadata": {},
   "source": [
    "this happens because read operation is lazy(transformation), but if you use inferschema it start to be action that will create Spark Job, because Spark need to loop throw all file to check datatypes for all columns and this can harm to your code(if we compare to parquet, it will also go to check data types, but parquet provide meta information, so Spark will not go throw all file, he will just read meta information, but csv don't provide such meta information). Also header make Spark to create one more Spark Job to check first line\n",
    "to define name of columns and remember to skeep it when reading. Actual reading start when you will use first action. More about Spark Jobs you will see in next topic"
   ]
  },
  {
   "cell_type": "markdown",
   "id": "underlying-assurance",
   "metadata": {},
   "source": [
    "write schema of scv on screen one more time and compare with previous"
   ]
  },
  {
   "cell_type": "code",
   "execution_count": 29,
   "id": "solid-infection",
   "metadata": {},
   "outputs": [
    {
     "name": "stdout",
     "output_type": "stream",
     "text": [
      "root\n",
      " |-- id: integer (nullable = true)\n",
      " |-- work_year: integer (nullable = true)\n",
      " |-- experience_level: string (nullable = true)\n",
      " |-- employment_type: string (nullable = true)\n",
      " |-- job_title: string (nullable = true)\n",
      " |-- salary: integer (nullable = true)\n",
      " |-- salary_currency: string (nullable = true)\n",
      " |-- salary_in_usd: integer (nullable = true)\n",
      " |-- employee_residence: string (nullable = true)\n",
      " |-- remote_ratio: integer (nullable = true)\n",
      " |-- company_location: string (nullable = true)\n",
      " |-- company_size: string (nullable = true)\n",
      "\n"
     ]
    }
   ],
   "source": [
    "df.printSchema()"
   ]
  },
  {
   "cell_type": "markdown",
   "id": "close-water",
   "metadata": {},
   "source": [
    "now continue to work with one of the dataframes that you create"
   ]
  },
  {
   "cell_type": "markdown",
   "id": "piano-belgium",
   "metadata": {},
   "source": [
    "print data in dataframe using df.show"
   ]
  },
  {
   "cell_type": "code",
   "execution_count": 30,
   "id": "legendary-alarm",
   "metadata": {},
   "outputs": [
    {
     "name": "stdout",
     "output_type": "stream",
     "text": [
      "+---+---------+----------------+---------------+--------------------+------+---------------+-------------+------------------+------------+----------------+------------+\n",
      "| id|work_year|experience_level|employment_type|           job_title|salary|salary_currency|salary_in_usd|employee_residence|remote_ratio|company_location|company_size|\n",
      "+---+---------+----------------+---------------+--------------------+------+---------------+-------------+------------------+------------+----------------+------------+\n",
      "|  0|     2020|              MI|             FT|      Data Scientist| 70000|            EUR|        79833|                DE|           0|              DE|           L|\n",
      "|  1|     2020|              SE|             FT|Machine Learning ...|260000|            USD|       260000|                JP|           0|              JP|           S|\n",
      "|  2|     2020|              SE|             FT|   Big Data Engineer| 85000|            GBP|       109024|                GB|          50|              GB|           M|\n",
      "+---+---------+----------------+---------------+--------------------+------+---------------+-------------+------------------+------------+----------------+------------+\n",
      "only showing top 3 rows\n",
      "\n"
     ]
    }
   ],
   "source": [
    "df.show(3)"
   ]
  },
  {
   "cell_type": "markdown",
   "id": "tamil-medium",
   "metadata": {},
   "source": [
    "print data in dataframe using display(df.toPandas())"
   ]
  },
  {
   "cell_type": "code",
   "execution_count": 25,
   "id": "connected-dryer",
   "metadata": {},
   "outputs": [
    {
     "name": "stdout",
     "output_type": "stream",
     "text": [
      "   id  work_year experience_level employment_type                   job_title  \\\n",
      "0   0       2020               MI              FT              Data Scientist   \n",
      "1   1       2020               SE              FT  Machine Learning Scientist   \n",
      "2   2       2020               SE              FT           Big Data Engineer   \n",
      "\n",
      "   salary salary_currency  salary_in_usd employee_residence  remote_ratio  \\\n",
      "0   70000             EUR          79833                 DE             0   \n",
      "1  260000             USD         260000                 JP             0   \n",
      "2   85000             GBP         109024                 GB            50   \n",
      "\n",
      "  company_location company_size  \n",
      "0               DE            L  \n",
      "1               JP            S  \n",
      "2               GB            M  \n"
     ]
    }
   ],
   "source": [
    "df = spark.read.csv(\n",
    "    \"ds_salaries.csv\",\n",
    "    header = True,\n",
    "    schema = dataset_schema\n",
    ")\n",
    "\n",
    "pandas_df = df.limit(3).toPandas()\n",
    "print(pandas_df)"
   ]
  },
  {
   "cell_type": "markdown",
   "id": "opponent-gazette",
   "metadata": {},
   "source": [
    "create df_job_title that consists from all job_titles without duplicates"
   ]
  },
  {
   "cell_type": "code",
   "execution_count": 23,
   "id": "friendly-cartridge",
   "metadata": {},
   "outputs": [],
   "source": [
    "df_job_title = df.select(col(\"job_title\")).distinct()\n"
   ]
  },
  {
   "cell_type": "markdown",
   "id": "offshore-architecture",
   "metadata": {},
   "source": [
    "print all rows from df_job_titles without truncating jobs"
   ]
  },
  {
   "cell_type": "code",
   "execution_count": 24,
   "id": "asian-edition",
   "metadata": {},
   "outputs": [
    {
     "name": "stdout",
     "output_type": "stream",
     "text": [
      "+-----------------------------+\n",
      "|job_title                    |\n",
      "+-----------------------------+\n",
      "|Data Analyst                 |\n",
      "|3D Computer Vision Researcher|\n",
      "|Cloud Data Engineer          |\n",
      "|Financial Data Analyst       |\n",
      "|Data Analytics Manager       |\n",
      "|Data Architect               |\n",
      "|Staff Data Scientist         |\n",
      "|Machine Learning Engineer    |\n",
      "|Lead Data Engineer           |\n",
      "|BI Data Analyst              |\n",
      "|AI Scientist                 |\n",
      "|Principal Data Scientist     |\n",
      "|Marketing Data Analyst       |\n",
      "|Head of Data Science         |\n",
      "|ETL Developer                |\n",
      "|NLP Engineer                 |\n",
      "|Director of Data Science     |\n",
      "|ML Engineer                  |\n",
      "|Director of Data Engineering |\n",
      "|Head of Machine Learning     |\n",
      "+-----------------------------+\n",
      "only showing top 20 rows\n",
      "\n"
     ]
    }
   ],
   "source": [
    "df_job_title.show(truncate=False)"
   ]
  },
  {
   "cell_type": "markdown",
   "id": "interim-pharmacy",
   "metadata": {},
   "source": [
    "create  df_analytic that will consists from max, avg, min USD salaries for all job_titles using groupBy. name of fields is avg_salary, min_salary, max_salary"
   ]
  },
  {
   "cell_type": "code",
   "execution_count": 17,
   "id": "naval-roller",
   "metadata": {},
   "outputs": [],
   "source": [
    "df_analytic = df.groupBy(\"job_title\").agg( \n",
    "        max(\"salary_in_usd\").alias(\"max_salary\"), \n",
    "        round(avg(\"salary_in_usd\"), 0).alias(\"avg_salary\"),\n",
    "        min(\"salary_in_usd\").alias(\"min_salary\")\n",
    ")\n"
   ]
  },
  {
   "cell_type": "markdown",
   "id": "french-pledge",
   "metadata": {},
   "source": [
    "print all rows from df_analytic without trancating jobs"
   ]
  },
  {
   "cell_type": "code",
   "execution_count": 18,
   "id": "bacterial-depression",
   "metadata": {},
   "outputs": [
    {
     "name": "stdout",
     "output_type": "stream",
     "text": [
      "+-----------------------------+----------+----------+----------+\n",
      "|job_title                    |max_salary|avg_salary|min_salary|\n",
      "+-----------------------------+----------+----------+----------+\n",
      "|Data Analyst                 |200000    |92893.0   |6072      |\n",
      "|3D Computer Vision Researcher|5409      |5409.0    |5409      |\n",
      "|Cloud Data Engineer          |160000    |124647.0  |89294     |\n",
      "|Financial Data Analyst       |450000    |275000.0  |100000    |\n",
      "|Data Analytics Manager       |150260    |127134.0  |105400    |\n",
      "|Data Architect               |266400    |177874.0  |90700     |\n",
      "|Staff Data Scientist         |105000    |105000.0  |105000    |\n",
      "|Machine Learning Engineer    |250000    |104880.0  |20000     |\n",
      "|Lead Data Engineer           |276000    |139725.0  |56000     |\n",
      "|BI Data Analyst              |150000    |74755.0   |9272      |\n",
      "|AI Scientist                 |200000    |66136.0   |12000     |\n",
      "|Principal Data Scientist     |416000    |215242.0  |148261    |\n",
      "|Marketing Data Analyst       |88654     |88654.0   |88654     |\n",
      "|Head of Data Science         |224000    |146719.0  |85000     |\n",
      "|ETL Developer                |54957     |54957.0   |54957     |\n",
      "|NLP Engineer                 |37236     |37236.0   |37236     |\n",
      "|Director of Data Science     |325000    |195074.0  |130026    |\n",
      "|ML Engineer                  |270000    |117504.0  |15966     |\n",
      "|Director of Data Engineering |200000    |156738.0  |113476    |\n",
      "|Head of Machine Learning     |79039     |79039.0   |79039     |\n",
      "+-----------------------------+----------+----------+----------+\n",
      "only showing top 20 rows\n",
      "\n"
     ]
    }
   ],
   "source": [
    "df_analytic.show(truncate=False)"
   ]
  },
  {
   "cell_type": "markdown",
   "id": "hazardous-color",
   "metadata": {},
   "source": [
    "now you need to add in df_analytic column row_id, that will show order of all job_titles depending on avg salary. they should be descending"
   ]
  },
  {
   "cell_type": "code",
   "execution_count": 19,
   "id": "nearby-treasurer",
   "metadata": {},
   "outputs": [],
   "source": [
    "window_f = Window.orderBy(desc(\"avg_salary\"))\n",
    "df_analytic = df_analytic.withColumn(\n",
    "    \"row_id\",\n",
    "    row_number().over(window_f)\n",
    ")\n"
   ]
  },
  {
   "cell_type": "markdown",
   "id": "documented-catalog",
   "metadata": {},
   "source": [
    "print all data from df_analytic"
   ]
  },
  {
   "cell_type": "code",
   "execution_count": 20,
   "id": "confirmed-monitoring",
   "metadata": {},
   "outputs": [
    {
     "name": "stdout",
     "output_type": "stream",
     "text": [
      "+----------------------------------+----------+----------+----------+------+\n",
      "|job_title                         |max_salary|avg_salary|min_salary|row_id|\n",
      "+----------------------------------+----------+----------+----------+------+\n",
      "|Data Analytics Lead               |405000    |405000.0  |405000    |1     |\n",
      "|Principal Data Engineer           |600000    |328333.0  |185000    |2     |\n",
      "|Financial Data Analyst            |450000    |275000.0  |100000    |3     |\n",
      "|Principal Data Scientist          |416000    |215242.0  |148261    |4     |\n",
      "|Director of Data Science          |325000    |195074.0  |130026    |5     |\n",
      "|Data Architect                    |266400    |177874.0  |90700     |6     |\n",
      "|Applied Data Scientist            |380000    |175655.0  |54238     |7     |\n",
      "|Analytics Engineer                |205300    |175000.0  |135000    |8     |\n",
      "|Data Specialist                   |165000    |165000.0  |165000    |9     |\n",
      "|Head of Data                      |235000    |160163.0  |32974     |10    |\n",
      "|Machine Learning Scientist        |260000    |158413.0  |12000     |11    |\n",
      "|Data Science Manager              |241000    |158329.0  |54094     |12    |\n",
      "|Director of Data Engineering      |200000    |156738.0  |113476    |13    |\n",
      "|Head of Data Science              |224000    |146719.0  |85000     |14    |\n",
      "|Applied Machine Learning Scientist|423000    |142069.0  |31875     |15    |\n",
      "|Lead Data Engineer                |276000    |139725.0  |56000     |16    |\n",
      "|Data Analytics Manager            |150260    |127134.0  |105400    |17    |\n",
      "|Cloud Data Engineer               |160000    |124647.0  |89294     |18    |\n",
      "|Data Engineering Manager          |174000    |123227.0  |59303     |19    |\n",
      "|Principal Data Analyst            |170000    |122500.0  |75000     |20    |\n",
      "+----------------------------------+----------+----------+----------+------+\n",
      "only showing top 20 rows\n",
      "\n"
     ]
    }
   ],
   "source": [
    "df_analytic.orderBy(\"row_id\").show(truncate=False)"
   ]
  },
  {
   "cell_type": "markdown",
   "id": "satellite-quarter",
   "metadata": {},
   "source": [
    "it isn't beautifull, so we need to put now row_id on first place in df_analytic"
   ]
  },
  {
   "cell_type": "code",
   "execution_count": 21,
   "id": "ranging-tribune",
   "metadata": {},
   "outputs": [],
   "source": [
    "new_columns = [\"row_id\"] + [c for c in df_analytic.columns if c != \"row_id\"]\n",
    "df_analytic = df_analytic.select(new_columns)\n"
   ]
  },
  {
   "cell_type": "markdown",
   "id": "reliable-amsterdam",
   "metadata": {},
   "source": [
    "print df_analytic now"
   ]
  },
  {
   "cell_type": "code",
   "execution_count": 22,
   "id": "classical-biology",
   "metadata": {},
   "outputs": [
    {
     "name": "stdout",
     "output_type": "stream",
     "text": [
      "+------+----------------------------------+----------+----------+----------+\n",
      "|row_id|job_title                         |max_salary|avg_salary|min_salary|\n",
      "+------+----------------------------------+----------+----------+----------+\n",
      "|1     |Data Analytics Lead               |405000    |405000.0  |405000    |\n",
      "|2     |Principal Data Engineer           |600000    |328333.0  |185000    |\n",
      "|3     |Financial Data Analyst            |450000    |275000.0  |100000    |\n",
      "|4     |Principal Data Scientist          |416000    |215242.0  |148261    |\n",
      "|5     |Director of Data Science          |325000    |195074.0  |130026    |\n",
      "|6     |Data Architect                    |266400    |177874.0  |90700     |\n",
      "|7     |Applied Data Scientist            |380000    |175655.0  |54238     |\n",
      "|8     |Analytics Engineer                |205300    |175000.0  |135000    |\n",
      "|9     |Data Specialist                   |165000    |165000.0  |165000    |\n",
      "|10    |Head of Data                      |235000    |160163.0  |32974     |\n",
      "|11    |Machine Learning Scientist        |260000    |158413.0  |12000     |\n",
      "|12    |Data Science Manager              |241000    |158329.0  |54094     |\n",
      "|13    |Director of Data Engineering      |200000    |156738.0  |113476    |\n",
      "|14    |Head of Data Science              |224000    |146719.0  |85000     |\n",
      "|15    |Applied Machine Learning Scientist|423000    |142069.0  |31875     |\n",
      "|16    |Lead Data Engineer                |276000    |139725.0  |56000     |\n",
      "|17    |Data Analytics Manager            |150260    |127134.0  |105400    |\n",
      "|18    |Cloud Data Engineer               |160000    |124647.0  |89294     |\n",
      "|19    |Data Engineering Manager          |174000    |123227.0  |59303     |\n",
      "|20    |Principal Data Analyst            |170000    |122500.0  |75000     |\n",
      "+------+----------------------------------+----------+----------+----------+\n",
      "only showing top 20 rows\n",
      "\n"
     ]
    }
   ],
   "source": [
    "df_analytic.show(truncate=False)"
   ]
  },
  {
   "cell_type": "markdown",
   "id": "hybrid-queensland",
   "metadata": {},
   "source": [
    "here you need to create df_exp_lvl with the biggest usd_salary(biggest_salary) for each experience_level(you need to save all fields like in entire dataframe)"
   ]
  },
  {
   "cell_type": "code",
   "execution_count": 33,
   "id": "dental-wrist",
   "metadata": {},
   "outputs": [],
   "source": [
    "max_sal = df.groupBy(\"experience_level\").agg(max(\"salary_in_usd\").alias(\"max_salary\"))\n",
    "df_exp_lvl = df.join(max_sal,\n",
    "                     (df.experience_level == max_sal.experience_level) &\n",
    "                     (df.salary_in_usd ==  max_sal.max_salary),\n",
    "                     \"inner\")"
   ]
  },
  {
   "cell_type": "markdown",
   "id": "innovative-hierarchy",
   "metadata": {},
   "source": [
    "print here df_exp_lvl"
   ]
  },
  {
   "cell_type": "code",
   "execution_count": 36,
   "id": "standing-toilet",
   "metadata": {},
   "outputs": [
    {
     "name": "stdout",
     "output_type": "stream",
     "text": [
      "    id  work_year experience_level employment_type                  job_title  \\\n",
      "0   33       2020               MI              FT         Research Scientist   \n",
      "1   37       2020               EN              FT  Machine Learning Engineer   \n",
      "2   63       2020               SE              FT             Data Scientist   \n",
      "3   97       2021               MI              FT     Financial Data Analyst   \n",
      "4  252       2021               EX              FT    Principal Data Engineer   \n",
      "\n",
      "   salary salary_currency  salary_in_usd employee_residence  remote_ratio  \\\n",
      "0  450000             USD         450000                 US             0   \n",
      "1  250000             USD         250000                 US            50   \n",
      "2  412000             USD         412000                 US           100   \n",
      "3  450000             USD         450000                 US           100   \n",
      "4  600000             USD         600000                 US           100   \n",
      "\n",
      "  company_location company_size experience_level  max_salary  \n",
      "0               US            M               MI      450000  \n",
      "1               US            L               EN      250000  \n",
      "2               US            L               SE      412000  \n",
      "3               US            L               MI      450000  \n",
      "4               US            L               EX      600000  \n"
     ]
    }
   ],
   "source": [
    "pandas_df = df_exp_lvl.limit(10).toPandas()\n",
    "print(pandas_df)"
   ]
  },
  {
   "cell_type": "markdown",
   "id": "hawaiian-mortgage",
   "metadata": {},
   "source": [
    "create df_best that consists from rows where salary of guy same as biggest salary for other people in his exp_lvl and choose only columns: id, experience_level, biggest_salary, employee_residence"
   ]
  },
  {
   "cell_type": "code",
   "execution_count": 32,
   "id": "toxic-prompt",
   "metadata": {},
   "outputs": [],
   "source": [
    "df_guy_sal = df.groupBy(\"experience_level\").agg(max(\"salary_in_usd\").alias(\"biggest_salary\"))\n",
    "df_best = df.join(df_guy_sal,\n",
    "                  [\"experience_level\"],\n",
    "                  \"inner\").filter(df.salary_in_usd == col(\"biggest_salary\")).select(col(\"id\"),\n",
    "                                                                                    col(\"experience_level\"),\n",
    "                                                                                    col(\"biggest_salary\"),\n",
    "                                                                                    col(\"employee_residence\")\n",
    "                                                                                       )"
   ]
  },
  {
   "cell_type": "markdown",
   "id": "complex-librarian",
   "metadata": {},
   "source": [
    "print df_best"
   ]
  },
  {
   "cell_type": "code",
   "execution_count": 33,
   "id": "smart-texas",
   "metadata": {},
   "outputs": [
    {
     "name": "stdout",
     "output_type": "stream",
     "text": [
      "+---+----------------+--------------+------------------+\n",
      "|id |experience_level|biggest_salary|employee_residence|\n",
      "+---+----------------+--------------+------------------+\n",
      "|33 |MI              |450000        |US                |\n",
      "|37 |EN              |250000        |US                |\n",
      "|63 |SE              |412000        |US                |\n",
      "|97 |MI              |450000        |US                |\n",
      "|252|EX              |600000        |US                |\n",
      "+---+----------------+--------------+------------------+\n",
      "\n"
     ]
    }
   ],
   "source": [
    "df_best.show(truncate=False)"
   ]
  },
  {
   "cell_type": "markdown",
   "id": "integral-brass",
   "metadata": {},
   "source": [
    "drop duplicates if exist by experience_level"
   ]
  },
  {
   "cell_type": "code",
   "execution_count": 34,
   "id": "immune-marine",
   "metadata": {},
   "outputs": [],
   "source": [
    "df_best = df_best.dropDuplicates([\"experience_level\"])"
   ]
  },
  {
   "cell_type": "markdown",
   "id": "connected-credit",
   "metadata": {},
   "source": [
    "print df_best"
   ]
  },
  {
   "cell_type": "code",
   "execution_count": 35,
   "id": "specified-wellington",
   "metadata": {},
   "outputs": [
    {
     "name": "stdout",
     "output_type": "stream",
     "text": [
      "+---+----------------+--------------+------------------+\n",
      "|id |experience_level|biggest_salary|employee_residence|\n",
      "+---+----------------+--------------+------------------+\n",
      "|252|EX              |600000        |US                |\n",
      "|37 |EN              |250000        |US                |\n",
      "|33 |MI              |450000        |US                |\n",
      "|63 |SE              |412000        |US                |\n",
      "+---+----------------+--------------+------------------+\n",
      "\n"
     ]
    }
   ],
   "source": [
    "df_best.show(truncate=False)"
   ]
  },
  {
   "cell_type": "markdown",
   "id": "facial-plant",
   "metadata": {},
   "source": [
    "create df_new_best from df_best without id, and make the next: when exp_level = MI we want middle, when SE we want senior, else Null"
   ]
  },
  {
   "cell_type": "code",
   "execution_count": 40,
   "id": "infinite-retail",
   "metadata": {},
   "outputs": [],
   "source": [
    "df_new_best = df_best.select(when(col(\"experience_level\") == \"MI\", \"middle\")\n",
    "                             .when(col(\"experience_level\") == \"SE\", \"senior\")\n",
    "                             .otherwise(None).alias(\"experience_level\"),\n",
    "                             \"biggest_salary\",\n",
    "                             \"employee_residence\")"
   ]
  },
  {
   "cell_type": "markdown",
   "id": "changing-fairy",
   "metadata": {},
   "source": [
    "print df_new_best"
   ]
  },
  {
   "cell_type": "code",
   "execution_count": 41,
   "id": "endless-framework",
   "metadata": {},
   "outputs": [
    {
     "name": "stdout",
     "output_type": "stream",
     "text": [
      "+----------------+--------------+------------------+\n",
      "|experience_level|biggest_salary|employee_residence|\n",
      "+----------------+--------------+------------------+\n",
      "|          middle|        450000|                US|\n",
      "|            null|        250000|                US|\n",
      "|          senior|        412000|                US|\n",
      "|          middle|        450000|                US|\n",
      "|            null|        600000|                US|\n",
      "+----------------+--------------+------------------+\n",
      "\n"
     ]
    }
   ],
   "source": [
    "df_new_best.show()"
   ]
  },
  {
   "cell_type": "markdown",
   "id": "mineral-status",
   "metadata": {},
   "source": [
    "write df_new_best like 1.csv and load then it to df_final"
   ]
  },
  {
   "cell_type": "code",
   "execution_count": 42,
   "id": "baking-progress",
   "metadata": {},
   "outputs": [],
   "source": [
    "df_new_best.write.csv(\"1.csv\", header=True, mode=\"overwrite\")"
   ]
  },
  {
   "cell_type": "markdown",
   "id": "vocal-shooting",
   "metadata": {},
   "source": [
    "print df_final"
   ]
  },
  {
   "cell_type": "code",
   "execution_count": 44,
   "id": "expired-viewer",
   "metadata": {},
   "outputs": [
    {
     "name": "stdout",
     "output_type": "stream",
     "text": [
      "root\n",
      " |-- experience_level: string (nullable = true)\n",
      " |-- biggest_salary: integer (nullable = true)\n",
      " |-- employee_residence: string (nullable = true)\n",
      "\n"
     ]
    }
   ],
   "source": [
    "df_final = spark.read.csv(\"1.csv\", header=True, inferSchema=True)\n",
    "df_final.printSchema()"
   ]
  },
  {
   "cell_type": "markdown",
   "id": "nutritional-progress",
   "metadata": {},
   "source": [
    "filter df_final to delete experience_level where it Null, then join this table by biggest_salary(salary_in_usd) and employee_residence with entire df"
   ]
  },
  {
   "cell_type": "code",
   "execution_count": 45,
   "id": "small-polymer",
   "metadata": {},
   "outputs": [],
   "source": [
    "df_final_cleaned = df_final.filter(df_final.experience_level.isNotNull())"
   ]
  },
  {
   "cell_type": "markdown",
   "id": "variable-twins",
   "metadata": {},
   "source": [
    "print df_final"
   ]
  },
  {
   "cell_type": "code",
   "execution_count": 47,
   "id": "generic-block",
   "metadata": {},
   "outputs": [],
   "source": [
    "df_joined = df_final_cleaned.join(df,\n",
    "    (df_final_cleaned.biggest_salary == df.salary_in_usd) &\n",
    "    (df_final_cleaned.employee_residence == df.employee_residence),\n",
    "    how=\"inner\"\n",
    ")"
   ]
  },
  {
   "cell_type": "markdown",
   "id": "variable-moore",
   "metadata": {},
   "source": [
    "last task is to save in variable and then print this variable of the biggest salary_in_usd from df_final"
   ]
  },
  {
   "cell_type": "code",
   "execution_count": 48,
   "id": "individual-institution",
   "metadata": {},
   "outputs": [
    {
     "name": "stdout",
     "output_type": "stream",
     "text": [
      "+----------------+--------------+------------------+---+---------+----------------+---------------+--------------------+------+---------------+-------------+------------------+------------+----------------+------------+\n",
      "|experience_level|biggest_salary|employee_residence| id|work_year|experience_level|employment_type|           job_title|salary|salary_currency|salary_in_usd|employee_residence|remote_ratio|company_location|company_size|\n",
      "+----------------+--------------+------------------+---+---------+----------------+---------------+--------------------+------+---------------+-------------+------------------+------------+----------------+------------+\n",
      "|          middle|        450000|                US| 33|     2020|              MI|             FT|  Research Scientist|450000|            USD|       450000|                US|           0|              US|           M|\n",
      "|          middle|        450000|                US| 33|     2020|              MI|             FT|  Research Scientist|450000|            USD|       450000|                US|           0|              US|           M|\n",
      "|          senior|        412000|                US| 63|     2020|              SE|             FT|      Data Scientist|412000|            USD|       412000|                US|         100|              US|           L|\n",
      "|          middle|        450000|                US| 97|     2021|              MI|             FT|Financial Data An...|450000|            USD|       450000|                US|         100|              US|           L|\n",
      "|          middle|        450000|                US| 97|     2021|              MI|             FT|Financial Data An...|450000|            USD|       450000|                US|         100|              US|           L|\n",
      "+----------------+--------------+------------------+---+---------+----------------+---------------+--------------------+------+---------------+-------------+------------------+------------+----------------+------------+\n",
      "\n"
     ]
    }
   ],
   "source": [
    "df_joined.show()"
   ]
  },
  {
   "cell_type": "markdown",
   "id": "stopped-procedure",
   "metadata": {},
   "source": [
    "It is the end of PySpark basics. In other lessons you will learn optimizations technics and how to make distributed system"
   ]
  }
 ],
 "metadata": {
  "kernelspec": {
   "display_name": "Python 3 (ipykernel)",
   "language": "python",
   "name": "python3"
  },
  "language_info": {
   "codemirror_mode": {
    "name": "ipython",
    "version": 3
   },
   "file_extension": ".py",
   "mimetype": "text/x-python",
   "name": "python",
   "nbconvert_exporter": "python",
   "pygments_lexer": "ipython3",
   "version": "3.10.5"
  }
 },
 "nbformat": 4,
 "nbformat_minor": 5
}
